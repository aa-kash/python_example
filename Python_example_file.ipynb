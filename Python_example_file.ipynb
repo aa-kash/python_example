{
 "cells": [
  {
   "cell_type": "markdown",
   "metadata": {},
   "source": [
    "# Example python code\n",
    "\n",
    "This is a python program to read input parameters from text files, perform  \n",
    "structural analysis and write output to a text file.                        \n",
    "                                                                            \n",
    "This program uses the file CDM_Inelastic.so to perform structural analysis of an inelastic SDOF structural system.                                     \n",
    "The contents of the text file 'input1.txt' are:                             \n",
    "1) The mass (in kg) of the structure (in the first line)                    \n",
    "2) The stiffness (in N-m) of the structure (in the second line)             \n",
    "3) The damping ratio (no unit) (in the third line)                          \n",
    "4) The force to yield (in the fourth line)                                  \n",
    "5) Time increment (in s) in the fifth line                                  \n",
    "6) Total time (in s) in the sixth line                                      \n",
    "\n",
    "The text file 'input2.txt' contains the value of the ground acceleration    \n",
    "(in g) at the base of the structure, starting from time 0 to time           \n",
    "[total_time] at time increments of [delta_t].                               \n",
    "\n",
    "The output from this program is the maximum displacement experienced by the \n",
    "structure when it is subjected to the acceleration specified in the file    \n",
    "input2.txt at the base of the structure. The output is written to the text  \n",
    "file output1.txt                                                            "
   ]
  },
  {
   "cell_type": "markdown",
   "metadata": {},
   "source": [
    "## -------------------Set working directory--------------------------------------"
   ]
  },
  {
   "cell_type": "code",
   "execution_count": null,
   "metadata": {
    "collapsed": true
   },
   "outputs": [],
   "source": [
    "# Set the working directory to the folder [Project]\n",
    "import os \n",
    "os.chdir('/Users/Aakash/Desktop/Python_programs/Project')"
   ]
  },
  {
   "cell_type": "markdown",
   "metadata": {},
   "source": [
    "## -------------------Read input data--------------------------------------------"
   ]
  },
  {
   "cell_type": "code",
   "execution_count": null,
   "metadata": {
    "collapsed": true
   },
   "outputs": [],
   "source": [
    "# Create a file object using the open() function and read the contents of the opened\n",
    "# file using the file_object.readlines() method. Do not forget to close each \n",
    "# opened file object using the file_object.close() method! \n",
    "\n",
    "# Read in the files 'input1.txt' and 'input2.txt' and save them in two variables.\n",
    "parFile = open('input1.txt')\n",
    "parameters = parFile.readlines()\n",
    "parFile.close()\n",
    "\n",
    "excFile = open('input2.txt')\n",
    "excitation = excFile.readlines()\n",
    "excFile.close()"
   ]
  },
  {
   "cell_type": "markdown",
   "metadata": {},
   "source": [
    "## ---------------------Clean-up input data--------------------------------------"
   ]
  },
  {
   "cell_type": "code",
   "execution_count": null,
   "metadata": {
    "collapsed": true
   },
   "outputs": [],
   "source": [
    "# The contents of a file are always read in as 'string' variable type by Python.\n",
    "# Also, there are the newline characters '\\n' which are saved by Python.\n",
    "# 1) Use strip() method to remove the 'newline' characters at the end of each\n",
    "# line read in by Python.\n",
    "# 2) Convert the lines read in from 'string' to 'float' data type. \n",
    "parameters = [float(i.strip()) for i in parameters]\n",
    "excitation = [float(i.strip()) for i in excitation]"
   ]
  },
  {
   "cell_type": "markdown",
   "metadata": {},
   "source": [
    "## --------------------Remove extra values read in from input2.txt---------------"
   ]
  },
  {
   "cell_type": "code",
   "execution_count": null,
   "metadata": {
    "collapsed": true
   },
   "outputs": [],
   "source": [
    "# Calculate total_number_of_increments = total_time/time_increment\n",
    "# Save only the first (total_number_of_increments) values from the variable \n",
    "# containing the ground acceleration values read in from input2.txt. Pass this \n",
    "# as the input argument [acceleration_at_base] when calling CDM_Inelastic module\n",
    "# in the next section\n",
    "stiffness = parameters[0]\n",
    "mass = parameters[1]\n",
    "damping_ratio = parameters[2]\n",
    "yield_force = parameters[3]\n",
    "time_increment = parameters[4]\n",
    "total_time = parameters[5]\n",
    "number_of_increments = total_time/time_increment\n",
    "acceleration_at_base = [excitation[i] for i in range(int(number_of_increments + 1))]"
   ]
  },
  {
   "cell_type": "markdown",
   "metadata": {},
   "source": [
    "## --------------------Call the structural analysis code-------------------------"
   ]
  },
  {
   "cell_type": "code",
   "execution_count": null,
   "metadata": {},
   "outputs": [],
   "source": [
    "# ******************************************************************************\n",
    "# Help on module CDM_Inelastic:\n",
    "# FUNCTIONS:\n",
    "#      maximum_displacement,displacement_time_history = CDM_Inelastic.centraldifferencemethod_inelastic_subr(stiffness,mass,\n",
    "#                             damping_ratio,yield_force,time_increment,total_time,acceleration_at_base,number_of_increments)\n",
    "# ******************************************************************************\n",
    "\n",
    "# First, import the module CDM_Inelastic. Then call the function given above. \n",
    "# Note the order in which the inputs have to be passed to the function.\n",
    "\n",
    "import CDM_Inelastic\n",
    "maximum_displacement,displacement_time_history = CDM_Inelastic.centraldifferencemethod_inelastic_subr(stiffness,mass,damping_ratio,yield_force,time_increment,total_time,acceleration_at_base,number_of_increments)\n",
    "print(maximum_displacement)"
   ]
  },
  {
   "cell_type": "markdown",
   "metadata": {},
   "source": [
    "## --------------------Write output to file--------------------------------------"
   ]
  },
  {
   "cell_type": "code",
   "execution_count": null,
   "metadata": {},
   "outputs": [],
   "source": [
    "# Open the text file 'output1.txt' in 'append' mode. Convert the output 'maximum_displacement' from the\n",
    "# structural analysis code in the previous section to 'string' datatype, add a \n",
    "# new line character and write to the file. \n",
    "# Do not forget to close the file after writing to it.\n",
    "\n",
    "# Open another text file 'output2.txt' in 'append' mode. Write the output 'displacement_time_history' \n",
    "# to this file. (This output is an array. You might need to use a for loop to write each component \n",
    "# of this array in a new line in the text file.)\n",
    "\n",
    "#with open(\"test.txt\", \"a\") as myfile:\n",
    "#    myfile.write(str(maximum_displacement)+'\\n')\n",
    "    \n",
    "outFile = open('output1.txt','a')\n",
    "outFile.write(str(maximum_displacement)+'\\n')\n",
    "outFile.close()\n",
    "\n",
    "outFile = open('output2.txt','a')\n",
    "for line in range(int(number_of_increments)):\n",
    "    outFile.write(str(displacement_time_history[line])+'\\n')\n",
    "outFile.close()"
   ]
  }
 ],
 "metadata": {
  "kernelspec": {
   "display_name": "Python [conda root]",
   "language": "python",
   "name": "conda-root-py"
  },
  "language_info": {
   "codemirror_mode": {
    "name": "ipython",
    "version": 3
   },
   "file_extension": ".py",
   "mimetype": "text/x-python",
   "name": "python",
   "nbconvert_exporter": "python",
   "pygments_lexer": "ipython3",
   "version": "3.5.3"
  }
 },
 "nbformat": 4,
 "nbformat_minor": 2
}
